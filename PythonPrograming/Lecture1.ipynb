{
 "cells": [
  {
   "cell_type": "markdown",
   "id": "95d55173",
   "metadata": {},
   "source": [
    "## introduction"
   ]
  },
  {
   "cell_type": "code",
   "execution_count": 1,
   "id": "7f68744e",
   "metadata": {},
   "outputs": [],
   "source": [
    "# Data Types Used in Python Programming\n",
    "'''\n",
    "1. int: Integer\n",
    "2. float : Decimal values\n",
    "3. string : Text Information\n",
    "4. Boolean : True or False\n",
    "'''\n",
    "\n",
    "# Data Type Definition\n",
    "# = : assignment operator\n",
    "num = 100\n",
    "num1 = 100.345\n",
    "str = 'hello world'\n",
    "boolean = True\n",
    "boolean1 = False\n",
    "\n",
    "\n"
   ]
  },
  {
   "cell_type": "code",
   "execution_count": 3,
   "id": "e8267347",
   "metadata": {},
   "outputs": [
    {
     "name": "stdout",
     "output_type": "stream",
     "text": [
      "100\n"
     ]
    }
   ],
   "source": [
    "print(num)"
   ]
  },
  {
   "cell_type": "code",
   "execution_count": 2,
   "id": "230d535e",
   "metadata": {},
   "outputs": [
    {
     "name": "stdout",
     "output_type": "stream",
     "text": [
      "num\n"
     ]
    }
   ],
   "source": [
    "print('num')"
   ]
  },
  {
   "cell_type": "code",
   "execution_count": 4,
   "id": "4d73cff0",
   "metadata": {},
   "outputs": [
    {
     "data": {
      "text/plain": [
       "200.345"
      ]
     },
     "execution_count": 4,
     "metadata": {},
     "output_type": "execute_result"
    }
   ],
   "source": [
    "num + num1"
   ]
  },
  {
   "cell_type": "code",
   "execution_count": 5,
   "id": "191706ec",
   "metadata": {},
   "outputs": [
    {
     "name": "stdout",
     "output_type": "stream",
     "text": [
      "1234556789\n"
     ]
    }
   ],
   "source": [
    "a = '12345'\n",
    "b = '56789'\n",
    "c = 10000\n",
    "\n",
    "print(a+b)"
   ]
  },
  {
   "cell_type": "code",
   "execution_count": null,
   "id": "6a52c9b6",
   "metadata": {},
   "outputs": [],
   "source": []
  }
 ],
 "metadata": {
  "kernelspec": {
   "display_name": "base",
   "language": "python",
   "name": "python3"
  },
  "language_info": {
   "codemirror_mode": {
    "name": "ipython",
    "version": 3
   },
   "file_extension": ".py",
   "mimetype": "text/x-python",
   "name": "python",
   "nbconvert_exporter": "python",
   "pygments_lexer": "ipython3",
   "version": "3.12.7"
  }
 },
 "nbformat": 4,
 "nbformat_minor": 5
}

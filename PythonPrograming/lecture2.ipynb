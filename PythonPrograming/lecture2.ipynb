{
 "cells": [
  {
   "cell_type": "code",
   "execution_count": 4,
   "id": "90b2a033",
   "metadata": {},
   "outputs": [],
   "source": [
    "str = 'hello world, welcome to the world of python programming'"
   ]
  },
  {
   "cell_type": "code",
   "execution_count": 6,
   "id": "0acaf4dc",
   "metadata": {},
   "outputs": [
    {
     "name": "stdout",
     "output_type": "stream",
     "text": [
      " \n",
      "r\n",
      "m\n"
     ]
    }
   ],
   "source": [
    "# Concept of Indexing\n",
    "print(str[5])\n",
    "print(str[8])\n",
    "print(str[-4])"
   ]
  },
  {
   "cell_type": "code",
   "execution_count": 13,
   "id": "6d68ef1f",
   "metadata": {},
   "outputs": [
    {
     "name": "stdout",
     "output_type": "stream",
     "text": [
      "hello world, welcome to the world of python programming\n",
      "hell\n",
      "hell\n",
      "am\n",
      "hlowrd ecm otewrdo yhnpormig\n",
      "gnimmargorp nohtyp fo dlrow eht ot emoclew ,dlrow olleh\n",
      "gimropnhy odrweto mce drwolh\n"
     ]
    }
   ],
   "source": [
    "# Consept of Slicing\n",
    "'''\n",
    "str[start:stop:step]\n",
    "'''\n",
    "print(str[:])\n",
    "print(str[:4])\n",
    "print(str[:4])\n",
    "print(str[-6:-4])\n",
    "print(str[::2])\n",
    "print(str[::-1])\n",
    "print(str[::-2])"
   ]
  },
  {
   "cell_type": "code",
   "execution_count": null,
   "id": "d8092760",
   "metadata": {},
   "outputs": [
    {
     "name": "stdout",
     "output_type": "stream",
     "text": [
      "<class 'str'>\n"
     ]
    }
   ],
   "source": [
    "print(type(str))"
   ]
  },
  {
   "cell_type": "code",
   "execution_count": 15,
   "id": "973c8d2c",
   "metadata": {},
   "outputs": [
    {
     "name": "stdout",
     "output_type": "stream",
     "text": [
      "HELLO WORLD\n",
      "hello world\n",
      "11\n"
     ]
    }
   ],
   "source": [
    "string = 'hello world'\n",
    "\n",
    "print(string.upper())\n",
    "print(string.lower())\n",
    "print(len(string))"
   ]
  },
  {
   "cell_type": "code",
   "execution_count": 23,
   "id": "13fb1f04",
   "metadata": {},
   "outputs": [
    {
     "name": "stdout",
     "output_type": "stream",
     "text": [
      "Idai ra o\n",
      "yr\n",
      "dir n\n",
      "dir n\n"
     ]
    }
   ],
   "source": [
    "s = 'India is great country'\n",
    "print(s[:-5:2])\n",
    "print(s[:-3:-1])\n",
    "print(s[2:-3:4])\n",
    "print(s[2:-3:4])\n"
   ]
  },
  {
   "cell_type": "code",
   "execution_count": null,
   "id": "4b760a4b",
   "metadata": {},
   "outputs": [],
   "source": []
  }
 ],
 "metadata": {
  "kernelspec": {
   "display_name": "base",
   "language": "python",
   "name": "python3"
  },
  "language_info": {
   "codemirror_mode": {
    "name": "ipython",
    "version": 3
   },
   "file_extension": ".py",
   "mimetype": "text/x-python",
   "name": "python",
   "nbconvert_exporter": "python",
   "pygments_lexer": "ipython3",
   "version": "3.12.7"
  }
 },
 "nbformat": 4,
 "nbformat_minor": 5
}
